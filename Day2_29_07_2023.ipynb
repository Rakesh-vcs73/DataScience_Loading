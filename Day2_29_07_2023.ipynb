{
 "cells": [
  {
   "cell_type": "code",
   "execution_count": 2,
   "id": "f65ab789",
   "metadata": {},
   "outputs": [],
   "source": [
    "#Working with JSON\n",
    "#JSON - Java Script Object Notation\n",
    "#ex:\n",
    "\"\"\"\n",
    "{\n",
    "\"name\":\"john\",\n",
    "\"address\":\"1 green street\",\n",
    "\"phone\":\"12345\"\n",
    "}\n",
    "\"\"\""
   ]
  },
  {
   "cell_type": "code",
   "execution_count": 3,
   "id": "df25f334",
   "metadata": {},
   "outputs": [],
   "source": [
    "#Write 2 progs\n",
    "#1) Create address book and write some records into it\n",
    "#2) Read from address book"
   ]
  },
  {
   "cell_type": "code",
   "execution_count": 28,
   "id": "109eda0f",
   "metadata": {},
   "outputs": [
    {
     "name": "stdout",
     "output_type": "stream",
     "text": [
      "{\"tom\": {\"name\": \"tom\", \"address\": \"1 green street\", \"phone\": 12345}, \"jerry\": {\"name\": \"jerry\", \"address\": \"1 red street\", \"phone\": 54321}}\n"
     ]
    }
   ],
   "source": [
    "## 1)\n",
    "#First create a dictionary then convert it to json and write to a file\n",
    "#create a dictionary\n",
    "book={}\n",
    "book['tom'] = {\n",
    "    'name':'tom',\n",
    "    'address':'1 green street',\n",
    "    'phone':12345\n",
    "}\n",
    "book['jerry'] = {\n",
    "    'name':'jerry',\n",
    "    'address':'1 red street',\n",
    "    'phone':54321\n",
    "}\n",
    "\n",
    "#convert to json using json module and assign it to a string\n",
    "import json\n",
    "s = json.dumps(book)\n",
    "print(s) # prints s in json format.\n",
    "\n",
    "# write the string into a file write mode \"w\"\n",
    "with open(\"C://Users//RV103304//Python//book.txt\",\"w\") as f:\n",
    "    f.write(s)\n",
    "    \n",
    "#verify if file is created."
   ]
  },
  {
   "cell_type": "code",
   "execution_count": 29,
   "id": "66daa99d",
   "metadata": {},
   "outputs": [
    {
     "name": "stdout",
     "output_type": "stream",
     "text": [
      "\n",
      "Json in string format : <class 'str'> {\"tom\": {\"name\": \"tom\", \"address\": \"1 green street\", \"phone\": 12345}, \"jerry\": {\"name\": \"jerry\", \"address\": \"1 red street\", \"phone\": 54321}}\n",
      "\n",
      "Book-Dict format : <class 'dict'> {'tom': {'name': 'tom', 'address': '1 green street', 'phone': 12345}, 'jerry': {'name': 'jerry', 'address': '1 red street', 'phone': 54321}}\n",
      "\n",
      "TOM ADDRESS BOOK :  {'name': 'tom', 'address': '1 green street', 'phone': 12345}\n",
      "\n",
      "Tom address:  1 green street\n",
      "\n",
      "Address book\n",
      "---\n",
      "{'name': 'tom', 'address': '1 green street', 'phone': 12345}\n",
      "1 green street\n",
      "---\n",
      "{'name': 'jerry', 'address': '1 red street', 'phone': 54321}\n",
      "1 red street\n"
     ]
    }
   ],
   "source": [
    "## 2)\n",
    "#Read from address book\n",
    "\n",
    "#Open a file in read mode\n",
    "f = open(\"C://Users//RV103304//Python//book.txt\",\"r\")\n",
    "s = f.read() #Reads all the contents of file into a string\n",
    "print(\"\\nJson in string format :\",type(s),s)\n",
    "\n",
    "\n",
    "#To load this String as JSON\n",
    "import json\n",
    "book = json.loads(s)\n",
    "print(\"\\nBook-Dict format :\",type(book),book)\n",
    "\n",
    "# Now you have dictionary, so read as intended.\n",
    "\n",
    "print(\"\\nTOM ADDRESS BOOK : \",book['tom'])\n",
    "print(\"\\nTom address: \",book['tom']['address'])\n",
    "\n",
    "#To print all addresses in book use for look\n",
    "print(\"\\nAddress book\")\n",
    "for persons in book:\n",
    "    print(\"---\")\n",
    "    print(book[persons])\n",
    "    print(book[persons]['address'])"
   ]
  },
  {
   "cell_type": "code",
   "execution_count": 30,
   "id": "b739052e",
   "metadata": {},
   "outputs": [],
   "source": [
    "# FILE OPERATIONS"
   ]
  },
  {
   "cell_type": "code",
   "execution_count": 54,
   "id": "1539168b",
   "metadata": {},
   "outputs": [],
   "source": [
    "# Create a new file and write some contents into it funny.txt\n",
    "\n",
    "f = open(\"C://Users//RV103304//Python//funny.txt\",\"w\")\n",
    "f.write(\"Data Science Loading\")\n",
    "f.close() #Remember to close to free memory\n",
    "\n",
    "# To append contents\n",
    "\n",
    "f = open(\"C://Users//RV103304//Python//funny.txt\",\"a\")\n",
    "f.write(\"\\nUpdate 2\")\n",
    "f.close()\n",
    "\n",
    "#\"r\" = read\n",
    "#\"w\" = write\n",
    "#\"r+\" = read and write but file must pre exist\n",
    "#\"w+\" = read and write is no file, file is created\n",
    "#\"a\" = append"
   ]
  },
  {
   "cell_type": "code",
   "execution_count": 68,
   "id": "0ea5347f",
   "metadata": {},
   "outputs": [
    {
     "name": "stdout",
     "output_type": "stream",
     "text": [
      "Data Science Loading\n",
      "\n",
      "Tokens:  ['Data', 'Science', 'Loading\\n']\n",
      "Length :  3\n",
      "Update 2\n",
      "Tokens:  ['Update', '2']\n",
      "Length :  2\n",
      "\n",
      "F_OUT Contents:\n",
      " word count is : 3 Data Science Loading\n",
      "word count is : 2 Update 2\n",
      "\n",
      "Using with: \n",
      " word count is : 3 Data Science Loading\n",
      "word count is : 2 Update 2\n"
     ]
    }
   ],
   "source": [
    "# To Read from a file\n",
    "\n",
    "\n",
    "f = open(\"C://Users//RV103304//Python//funny.txt\",\"r\")\n",
    "f_out = open(\"C://Users//RV103304//Python//funny_out.txt\",\"w\")\n",
    "\n",
    "#To print all the contents\n",
    "#print(f.read())\n",
    "\n",
    "# Program to read line by line, then append count of words in each line and write it to a new file\n",
    "for line in f:\n",
    "    # Print lines\n",
    "    print(line)\n",
    "    \n",
    "    #To count words, count spaces\n",
    "    tokens = line.split(' ') #Split splits based on spaces and returns list\n",
    "    print(\"Tokens: \",tokens)\n",
    "    #Thus work count\n",
    "    print(\"Length : \",len(tokens))\n",
    "    \n",
    "    #To append count to each line and write to a new file\n",
    "    f_out.write(\"word count is : \"+str(len(tokens))+\" \"+line)\n",
    "\n",
    "f.close()\n",
    "f_out.close()\n",
    "\n",
    "f_out = open(\"C://Users//RV103304//Python//funny_out.txt\",\"r\")\n",
    "print(\"\\nF_OUT Contents:\\n\",f_out.read())\n",
    "f_out.close()\n",
    "\n",
    "#Instead of using close we can also use with statement\n",
    "\n",
    "with open(\"C://Users//RV103304//Python//funny_out.txt\",\"r\") as f:\n",
    "    print(\"\\nUsing with: \\n\",f.read())"
   ]
  },
  {
   "cell_type": "code",
   "execution_count": null,
   "id": "8fa90e35",
   "metadata": {},
   "outputs": [],
   "source": []
  }
 ],
 "metadata": {
  "kernelspec": {
   "display_name": "Python 3 (ipykernel)",
   "language": "python",
   "name": "python3"
  },
  "language_info": {
   "codemirror_mode": {
    "name": "ipython",
    "version": 3
   },
   "file_extension": ".py",
   "mimetype": "text/x-python",
   "name": "python",
   "nbconvert_exporter": "python",
   "pygments_lexer": "ipython3",
   "version": "3.11.3"
  }
 },
 "nbformat": 4,
 "nbformat_minor": 5
}
