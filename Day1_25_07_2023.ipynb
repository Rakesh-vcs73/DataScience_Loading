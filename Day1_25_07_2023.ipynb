{
 "cells": [
  {
   "cell_type": "code",
   "execution_count": null,
   "id": "d13718b0",
   "metadata": {},
   "outputs": [],
   "source": [
    "#Starting from scratch\n",
    "# 25/07/2023"
   ]
  },
  {
   "cell_type": "code",
   "execution_count": 10,
   "id": "b7e70910",
   "metadata": {},
   "outputs": [
    {
     "name": "stdout",
     "output_type": "stream",
     "text": [
      "200\n",
      "I bought Bag\n"
     ]
    }
   ],
   "source": [
    "#Variables\n",
    "\n",
    "root = 200\n",
    "print(root)\n",
    "item1 = \"Bag\"\n",
    "print(\"I bought \"+ item1)"
   ]
  },
  {
   "cell_type": "code",
   "execution_count": 12,
   "id": "7a62594b",
   "metadata": {},
   "outputs": [
    {
     "name": "stdout",
     "output_type": "stream",
     "text": [
      "Sum =  7\n",
      "Sub =  -1\n",
      "Mul =  12\n",
      "Div =  0.75\n",
      "Pow =  81\n",
      "Remainder =  3\n",
      "3.14\n"
     ]
    }
   ],
   "source": [
    "#Numbers\n",
    "\n",
    "num1 = 3\n",
    "num2 = 4\n",
    "print(\"Sum = \",num1+num2)\n",
    "print(\"Sub = \",num1-num2)\n",
    "print(\"Mul = \",num1*num2)\n",
    "print(\"Div = \",num1/num2)\n",
    "print(\"Pow = \",num1**num2)\n",
    "print(\"Remainder = \",num1%num2)\n",
    "float_num = 3.1415924535\n",
    "print(round(float_num,2))\n",
    "#round function rounds the value of the variable."
   ]
  },
  {
   "cell_type": "code",
   "execution_count": 24,
   "id": "bd678b7b",
   "metadata": {},
   "outputs": [
    {
     "name": "stdout",
     "output_type": "stream",
     "text": [
      "c\n",
      "m\n",
      "Ice\n",
      "Ice\n",
      "cream\n",
      "Address is :\n",
      "#123 single state,\n",
      "single island,\n",
      "single country 111\n",
      "26 Hello\n"
     ]
    }
   ],
   "source": [
    "#Strings\n",
    "\n",
    "String1 = \"Ice cream\"\n",
    "print(String1[1])\n",
    "print(String1[-1])\n",
    "#last character\n",
    "print(String1[0:3])\n",
    "#Includes the first number and excludes the second so [0] to [2] will be printed\n",
    "print(String1[:3])\n",
    "#[0] to [2] will be printed\n",
    "print(String1[4:])\n",
    "#[4] to [-1] would be printed\n",
    "\n",
    "#Multi line string\n",
    "Address = '''#123 single state,\n",
    "single island,\n",
    "single country 111'''\n",
    "print(\"Address is :\\n\"+Address)\n",
    "# + symbol is used to concatinate string\n",
    "\n",
    "#Convert number to string\n",
    "num = 26\n",
    "String2 = \"Hello\"\n",
    "#num+String2 will throw error unsupported operand type(s) for +: 'int' and 'str'\n",
    "#print(num+String2) so first convert int to string then concatinate\n",
    "print(str(num)+\" \"+String2)"
   ]
  },
  {
   "cell_type": "code",
   "execution_count": 36,
   "id": "f19943b7",
   "metadata": {},
   "outputs": [
    {
     "name": "stdout",
     "output_type": "stream",
     "text": [
      "Pasta\n",
      "Fruits\n",
      "['Bread', 'Pasta']\n",
      "['Eggs']\n",
      "['Bread', 'Pasta', 'Eggs', 'Fruits', 'Butter']\n",
      "['Bread', 'Peanut', 'Pasta', 'Eggs', 'Fruits', 'Butter']\n",
      "True\n",
      "False\n"
     ]
    }
   ],
   "source": [
    "#Lists\n",
    "\n",
    "items = [\"Bread\",\"Pasta\",\"Eggs\",\"Fruits\"]\n",
    "print(items[1])\n",
    "print(items[-1])\n",
    "print(items[0:2])\n",
    "print(items[2:-1])\n",
    "\n",
    "#To add element at end use APPEND\n",
    "items.append(\"Butter\")\n",
    "print(items)\n",
    "\n",
    "# To add element at specific location use INSERT\n",
    "items.insert(1,\"Peanut\")\n",
    "print(items)\n",
    "\n",
    "#To join 2 lists use + operator\n",
    "#LEN gives the length of list\n",
    "\n",
    "#To check / lookup if an element is present in an list ise IN operator\n",
    "\n",
    "print(\"Bread\" in items)\n",
    "print(\"Rakesh\" in items)"
   ]
  },
  {
   "cell_type": "code",
   "execution_count": 53,
   "id": "b39343a4",
   "metadata": {},
   "outputs": [
    {
     "name": "stdout",
     "output_type": "stream",
     "text": [
      "1 2 3 4 5 6 7 8 9 10 \n",
      "Total expense is : 15800\n",
      "Expense for month  1  is : 2000\n",
      "Expense for month  2  is : 3000\n",
      "Expense for month  3  is : 4000\n",
      "Expense for month  4  is : 4500\n",
      "Expense for month  5  is : 2300\n",
      "15800\n"
     ]
    }
   ],
   "source": [
    "#FOR LOOPS\n",
    "\n",
    "# to print numbers from 1 to 10\n",
    "for i in range(1,11): # include 1, exclude 11 so 1 to 10 will be printed\n",
    "    print(i, end = \" \")\n",
    "print(\"\")\n",
    "\n",
    "\n",
    "# find sum of all expenses\n",
    "exp = [2000,3000,4000,4500,2300]\n",
    "total = 0\n",
    "for expen in exp:\n",
    "    total += expen\n",
    "print(\"Total expense is :\",total)\n",
    "\n",
    "#To print the month number, its expense, and finally the total expense\n",
    "exp = [2000,3000,4000,4500,2300]\n",
    "total = 0\n",
    "for i in range(0,len(exp)):\n",
    "    print(\"Expense for month \",(i+1),\" is :\", (exp[i]))\n",
    "    total += exp[i]\n",
    "print(total)\n",
    "          \n"
   ]
  },
  {
   "cell_type": "code",
   "execution_count": 54,
   "id": "f8bb9d45",
   "metadata": {},
   "outputs": [
    {
     "name": "stdout",
     "output_type": "stream",
     "text": [
      "Key not found at Garage\n",
      "Key not found at Living room\n",
      "Key found at chair\n"
     ]
    }
   ],
   "source": [
    "#BREAK in loops - to stop the iteration if a condition is met\n",
    "#You are searching for a key in your place, so when key is found stop searching\n",
    "\n",
    "key_location = \"chair\"\n",
    "locations = [\"Garage\",\"Living room\",\"chair\",\"closet\"]\n",
    "\n",
    "for loc in locations:\n",
    "    if loc==key_location:\n",
    "        print(\"Key found at \"+loc)\n",
    "        break\n",
    "    else:\n",
    "        print(\"Key not found at \"+loc)"
   ]
  },
  {
   "cell_type": "code",
   "execution_count": 58,
   "id": "dffc5a22",
   "metadata": {},
   "outputs": [
    {
     "name": "stdout",
     "output_type": "stream",
     "text": [
      " Squar of  1  is : 1\n",
      "Skipping  2\n",
      " Squar of  3  is : 9\n",
      "Skipping  4\n",
      " Squar of  5  is : 25\n",
      "Skipping  6\n",
      " Squar of  7  is : 49\n",
      "Skipping  8\n",
      " Squar of  9  is : 81\n",
      "Skipping  10\n"
     ]
    }
   ],
   "source": [
    "#CONTINUE to skip a specified iteration and continue the loop\n",
    "\n",
    "#For example print all the squares from 1 to 10 but only for odd numbers\n",
    "\n",
    "for i in range(1,11):\n",
    "    if(i%2==0):\n",
    "        print(\"Skipping \",i)\n",
    "        continue\n",
    "    else:\n",
    "        print(\" Squar of \",i,\" is :\",i**2)"
   ]
  },
  {
   "cell_type": "code",
   "execution_count": 62,
   "id": "a9c70390",
   "metadata": {},
   "outputs": [
    {
     "name": "stdout",
     "output_type": "stream",
     "text": [
      "1 2 3 4 5 6 7 8 9 10 "
     ]
    }
   ],
   "source": [
    "# WHILE LOOP\n",
    "\n",
    "#Similar to for loop\n",
    "#Syntax while condition:\n",
    "# To print numbers from 1 to 10\n",
    "\n",
    "i=1\n",
    "while(i<=10):\n",
    "    print(i,end=\" \")\n",
    "    i+=1 #REMEMBER NOT TO FORGET TO INCREMENT AS THIS MAY LEAD TO INFINITE LOOP"
   ]
  },
  {
   "cell_type": "code",
   "execution_count": 63,
   "id": "2a6f8613",
   "metadata": {},
   "outputs": [],
   "source": [
    "#Functions"
   ]
  },
  {
   "cell_type": "code",
   "execution_count": 64,
   "id": "bd798381",
   "metadata": {},
   "outputs": [
    {
     "name": "stdout",
     "output_type": "stream",
     "text": [
      "Total 1 is:  10\n",
      "Total 2 is:  26\n"
     ]
    }
   ],
   "source": [
    "#To calculate sum of all elements in a list\n",
    "def calculate_sum(exp):\n",
    "    total = 0\n",
    "    for i in exp:\n",
    "        total += i\n",
    "    return total\n",
    "\n",
    "exp1 = [1,2,3,4]\n",
    "exp2 = [5,6,7,8]\n",
    "print(\"Total 1 is: \",calculate_sum(exp1))\n",
    "print(\"Total 2 is: \",calculate_sum(exp2))"
   ]
  },
  {
   "cell_type": "code",
   "execution_count": 72,
   "id": "beac46bb",
   "metadata": {},
   "outputs": [
    {
     "name": "stdout",
     "output_type": "stream",
     "text": [
      "Local subt value is:  2\n",
      "a - b is: 2\n",
      "Local subt value is:  10\n",
      "Default a-0:  10\n",
      "Global Subt value is 200\n"
     ]
    }
   ],
   "source": [
    "#Passing named arguments\n",
    "subt=200 #Global variable\n",
    "\n",
    "def sub(a,b=0):# if anything is not passed to b DEFAULT ARGUMENT is 0\n",
    "    \"\"\"\n",
    "    Documentation String\n",
    "    This function takes two integer variables and returns difference between them as integer.\n",
    "    If the 2nd value is not passed the value will be considered as 0.\n",
    "    \"\"\"\n",
    "    subt = a-b\n",
    "    print(\"Local subt value is: \",subt)\n",
    "    return subt\n",
    "\n",
    "total1 = sub(b=10, a=12)\n",
    "print(\"a - b is:\",total1)\n",
    "\n",
    "\n",
    "total2 = sub(a=10)\n",
    "print(\"Default a-0: \",total2)\n",
    "\n",
    "print(\"Global Subt value is\", subt)"
   ]
  },
  {
   "cell_type": "code",
   "execution_count": 19,
   "id": "c5c32043",
   "metadata": {},
   "outputs": [
    {
     "name": "stdout",
     "output_type": "stream",
     "text": [
      "Complete directory:  {'Rock': 1234567890, 'as': 9987654321, 'very': 82748364872}\n",
      "To access using key:  1234567890\n",
      "After adding Hello:  {'Rock': 1234567890, 'as': 9987654321, 'very': 82748364872, 'hello': 9876565656}\n",
      "After Deleting as:  {'Rock': 1234567890, 'very': 82748364872, 'hello': 9876565656}\n",
      "Iterate using Key-----\n",
      "Rock  :  1234567890\n",
      "very  :  82748364872\n",
      "hello  :  9876565656\n",
      "Iterate using Tuple-----\n",
      "Rock  :  1234567890\n",
      "very  :  82748364872\n",
      "hello  :  9876565656\n",
      "After clearing:  {}\n"
     ]
    }
   ],
   "source": [
    "#Dictionaries - Key value pairs\n",
    "tel_dir = {\"Rock\":1234567890,\"as\":9987654321,\"very\":82748364872}\n",
    "print(\"Complete directory: \",tel_dir)\n",
    "print(\"To access using key: \", tel_dir[\"Rock\"])\n",
    "\n",
    "#Add new entry\n",
    "tel_dir[\"hello\"]=9876565656\n",
    "print(\"After adding Hello: \", tel_dir) #Order doesnot matter in dictionary\n",
    "\n",
    "#Delete an entry \"as\"\n",
    "del tel_dir[\"as\"]\n",
    "print(\"After Deleting as: \", tel_dir)\n",
    "\n",
    "#Iterate using key\n",
    "print(\"Iterate using Key-----\")\n",
    "for key in tel_dir: \n",
    "    print(key,\" : \",tel_dir[key])\n",
    "    \n",
    "#Iterate using Tuple - .items() function\n",
    "print(\"Iterate using Tuple-----\")\n",
    "for k,v in tel_dir.items():\n",
    "    print(k,\" : \",v)\n",
    "    \n",
    "# Lookup if Rock is present\n",
    "\"Rock\" in tel_dir\n",
    "\n",
    "#Wipe all entries in dir\n",
    "tel_dir.clear()\n",
    "print(\"After clearing: \",tel_dir)"
   ]
  },
  {
   "cell_type": "code",
   "execution_count": 26,
   "id": "414b4d16",
   "metadata": {},
   "outputs": [
    {
     "name": "stdout",
     "output_type": "stream",
     "text": [
      "1 purple street\n",
      "560064\n"
     ]
    }
   ],
   "source": [
    "#TUPLES - Similar to list but has heterogeneous values\n",
    "address = (\"1 purple street\",\"New yelahanka\", 560064)\n",
    "print(address[0])\n",
    "print(address[2])\n",
    "\n",
    "#Tuples are immutable"
   ]
  },
  {
   "cell_type": "code",
   "execution_count": 30,
   "id": "ad1dad80",
   "metadata": {},
   "outputs": [
    {
     "name": "stdout",
     "output_type": "stream",
     "text": [
      "     July 2023\n",
      "Mo Tu We Th Fr Sa Su\n",
      "                1  2\n",
      " 3  4  5  6  7  8  9\n",
      "10 11 12 13 14 15 16\n",
      "17 18 19 20 21 22 23\n",
      "24 25 26 27 28 29 30\n",
      "31\n",
      "\n"
     ]
    }
   ],
   "source": [
    "#Modules math, calendar, matplotlib . . . \n",
    "\n",
    "import calendar as c\n",
    "#dir(c) -  To list all the functions in calendar module\n",
    "\n",
    "print(c.month(2023,7))\n",
    "\n",
    "#To write your own module write a .py file which contains one or more finctions.\n",
    "#If present in same folder mymodule.py\n",
    "# import mymodule\n",
    "\n",
    "#If present in a sub folder modules/mymodule.py\n",
    "# import modules.mymodule\n",
    "\n",
    "#If present in some other system path \"c:/codes/modules/mymodule.py\"\n",
    "## First import the folder then import the module\n",
    "# import sys\n",
    "# sys.path.append(\"c:/codes/modules\")\n",
    "# import mymodule"
   ]
  },
  {
   "cell_type": "code",
   "execution_count": null,
   "id": "3bc220f0",
   "metadata": {},
   "outputs": [],
   "source": []
  }
 ],
 "metadata": {
  "kernelspec": {
   "display_name": "Python 3 (ipykernel)",
   "language": "python",
   "name": "python3"
  },
  "language_info": {
   "codemirror_mode": {
    "name": "ipython",
    "version": 3
   },
   "file_extension": ".py",
   "mimetype": "text/x-python",
   "name": "python",
   "nbconvert_exporter": "python",
   "pygments_lexer": "ipython3",
   "version": "3.11.3"
  }
 },
 "nbformat": 4,
 "nbformat_minor": 5
}
